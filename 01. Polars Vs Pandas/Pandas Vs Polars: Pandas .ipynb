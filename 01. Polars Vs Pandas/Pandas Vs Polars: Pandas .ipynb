{
 "cells": [
  {
   "cell_type": "code",
   "execution_count": 3,
   "id": "f8b8aa73-cf27-4720-b144-47a8c83e05af",
   "metadata": {},
   "outputs": [
    {
     "name": "stdout",
     "output_type": "stream",
     "text": [
      "******************************************\n",
      "          The imported libs are:          \n",
      "******************************************\n",
      "polars version is :     0.19.6\n",
      "pandas version is :      2.0.3\n",
      "numpy version is  :     1.24.4\n",
      "pyarrow version is:     13.0.0\n",
      "******************************************\n"
     ]
    }
   ],
   "source": [
    "from importlibs import *"
   ]
  },
  {
   "cell_type": "code",
   "execution_count": 4,
   "id": "92d98b39-5d78-4696-b2db-b07db2f25cee",
   "metadata": {},
   "outputs": [
    {
     "name": "stdout",
     "output_type": "stream",
     "text": [
      "Time taken to read the CSV file: 0.0370831 seconds\n"
     ]
    }
   ],
   "source": [
    "# Record the start time\n",
    "start_time = time.time()\n",
    "\n",
    "# Read the CSV file\n",
    "data = pd.read_csv('./Data/earthquake_data.csv')\n",
    "# Record the end time\n",
    "end_time = time.time()\n",
    "\n",
    "# Calculate the execution time\n",
    "execution_time = end_time - start_time\n",
    "\n",
    "print(f\"Time taken to read the CSV file: {execution_time:.7f} seconds\")"
   ]
  },
  {
   "cell_type": "code",
   "execution_count": 5,
   "id": "0b51932d-42fc-43a5-a9cd-fd6502ccf9a5",
   "metadata": {},
   "outputs": [
    {
     "name": "stdout",
     "output_type": "stream",
     "text": [
      "CPU times: user 21 ms, sys: 6.9 ms, total: 27.9 ms\n",
      "Wall time: 26.4 ms\n"
     ]
    }
   ],
   "source": [
    "%%time\n",
    "data = pd.read_csv('./Data/earthquake_data.csv')"
   ]
  },
  {
   "cell_type": "code",
   "execution_count": 6,
   "id": "b80dfe6d-8b1d-414f-a48d-fdc5ff22edbc",
   "metadata": {},
   "outputs": [
    {
     "name": "stdout",
     "output_type": "stream",
     "text": [
      "17.5 ms ± 323 µs per loop (mean ± std. dev. of 7 runs, 100 loops each)\n"
     ]
    }
   ],
   "source": [
    "%%timeit\n",
    "data = pd.read_csv('./Data/earthquake_data.csv')"
   ]
  },
  {
   "cell_type": "code",
   "execution_count": null,
   "id": "4609eacb-8856-459e-bbc9-60f7d88355f2",
   "metadata": {},
   "outputs": [],
   "source": []
  }
 ],
 "metadata": {
  "kernelspec": {
   "display_name": "tsenv",
   "language": "python",
   "name": "tsenv"
  },
  "language_info": {
   "codemirror_mode": {
    "name": "ipython",
    "version": 3
   },
   "file_extension": ".py",
   "mimetype": "text/x-python",
   "name": "python",
   "nbconvert_exporter": "python",
   "pygments_lexer": "ipython3",
   "version": "3.11.5"
  }
 },
 "nbformat": 4,
 "nbformat_minor": 5
}
