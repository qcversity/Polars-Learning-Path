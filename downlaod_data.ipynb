{
 "cells": [
  {
   "cell_type": "code",
   "execution_count": null,
   "id": "af296a96-646c-4470-9ada-898dc51b5663",
   "metadata": {},
   "outputs": [],
   "source": []
  },
  {
   "cell_type": "code",
   "execution_count": null,
   "id": "4d0dec6e-88f8-4cbc-bb96-177f5b93e342",
   "metadata": {},
   "outputs": [],
   "source": [
    "import zipfile\n",
    "import tempfile\n",
    "import shutil\n",
    "import os\n",
    "import sys\n",
    "import csv\n",
    "\n",
    "\n",
    "try:\n",
    "    from urllib import urlretrieve\n",
    "except ImportError:\n",
    "    from urllib.request import urlretrieve\n",
    "    \n",
    "    \n",
    "try:\n",
    "    from zipfile import BadZipFile as BadZipFile\n",
    "except ImportError:\n",
    "    from zipfile import BadZipfile as BadZipFile\n",
    "\n",
    "    \n",
    "from tslearn.utils import to_time_series_dataset"
   ]
  }
 ],
 "metadata": {
  "kernelspec": {
   "display_name": "PolarsEnv",
   "language": "python",
   "name": "plenv"
  },
  "language_info": {
   "codemirror_mode": {
    "name": "ipython",
    "version": 3
   },
   "file_extension": ".py",
   "mimetype": "text/x-python",
   "name": "python",
   "nbconvert_exporter": "python",
   "pygments_lexer": "ipython3",
   "version": "3.12.1"
  }
 },
 "nbformat": 4,
 "nbformat_minor": 5
}
